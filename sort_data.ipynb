{
 "cells": [
  {
   "cell_type": "markdown",
   "id": "373cc104",
   "metadata": {},
   "source": [
    "# Business Intelligence Analysis of Amazons Sales Data"
   ]
  },
  {
   "cell_type": "markdown",
   "id": "dc54291c",
   "metadata": {},
   "source": [
    "**Table of Contents**\n",
    "\n",
    "1. **[Introduction](#introduction)**\n",
    "2. **[Data](#data)**\n",
    "3. **[Sort](#sort)**"
   ]
  },
  {
   "cell_type": "markdown",
   "id": "4eff33f2",
   "metadata": {},
   "source": [
    "### Introduction\n",
    "<a name=\"introduction\"></a>"
   ]
  },
  {
   "cell_type": "markdown",
   "id": "00329c05",
   "metadata": {},
   "source": [
    "In this project i will be implementing techniques and statistics that I learned in my Business Intelligence skillpath on codecademy:\n",
    "\n",
    "- **Q1** Top 10 most sold products\n",
    "- **Q2** Highest Rating products\n",
    "- **Q3** Most expensive products\n",
    "- **Q4** Total products in each category\n",
    "- **Q5** Top 5 Categories by Volume sold and Rough Revenue\n",
    "- **Q6** Is there any correlation between Price and Ratings\n",
    "- **Q7** Average price in categories.\n",
    "- **Q8** Create a more informative csv and excel file"
   ]
  },
  {
   "cell_type": "markdown",
   "id": "1c224d5e",
   "metadata": {},
   "source": [
    "<a name=\"data\"></a>\n",
    "# Import and Inspect Data"
   ]
  },
  {
   "cell_type": "code",
   "execution_count": 11,
   "id": "4ffa187c",
   "metadata": {},
   "outputs": [],
   "source": [
    "#import the neccesary libraries\n",
    "import pandas as pd\n",
    "import numpy as np\n",
    "import matplotlib.pyplot as plt\n"
   ]
  },
  {
   "cell_type": "code",
   "execution_count": 33,
   "id": "d95ac374",
   "metadata": {},
   "outputs": [
    {
     "name": "stdout",
     "output_type": "stream",
     "text": [
      "   product_id                                       product_name  \\\n",
      "0  B07JW9H4J1  Wayona Nylon Braided USB to Lightning Fast Cha...   \n",
      "1  B098NS6PVG  Ambrane Unbreakable 60W / 3A Fast Charging 1.5...   \n",
      "2  B096MSW6CT  Sounce Fast Phone Charging Cable & Data Sync U...   \n",
      "3  B08HDJ86NZ  boAt Deuce USB 300 2 in 1 Type-C & Micro USB S...   \n",
      "4  B08CF3B7N1  Portronics Konnect L 1.2M Fast Charging 3A 8 P...   \n",
      "\n",
      "                                            category discounted_price  \\\n",
      "0  Computers&Accessories|Accessories&Peripherals|...           ‚Çπ399   \n",
      "1  Computers&Accessories|Accessories&Peripherals|...           ‚Çπ199   \n",
      "2  Computers&Accessories|Accessories&Peripherals|...           ‚Çπ199   \n",
      "3  Computers&Accessories|Accessories&Peripherals|...           ‚Çπ329   \n",
      "4  Computers&Accessories|Accessories&Peripherals|...           ‚Çπ154   \n",
      "\n",
      "  discounted price formatted  discount_value_dollar actual_price  \\\n",
      "0                        399                   4.93     ‚Çπ1,099   \n",
      "1                        199                   2.46       ‚Çπ349   \n",
      "2                        199                   2.46     ‚Çπ1,899   \n",
      "3                        329                   4.06       ‚Çπ699   \n",
      "4                        154                   1.90       ‚Çπ399   \n",
      "\n",
      "  discount price formatted actual  actual_value_dollar  discount_percentage  \\\n",
      "0                           1,099                13.57                 0.64   \n",
      "1                             349                 4.31                 0.43   \n",
      "2                           1,899                23.44                 0.90   \n",
      "3                             699                 8.63                 0.53   \n",
      "4                             399                 4.93                 0.61   \n",
      "\n",
      "  rating rating_count                                      about_product  \\\n",
      "0    4.2       24.269  High Compatibility : Compatible With iPhone 12...   \n",
      "1    4.0       43.994  Compatible with all Type C enabled devices, be...   \n",
      "2    3.9        7.928  „Äê Fast Charger& Data Sync„Äë-With built-in s...   \n",
      "3    4.2       94.363  The boAt Deuce USB 300 2 in 1 cable is compati...   \n",
      "4    4.2       16.905  [CHARGE & SYNC FUNCTION]- This cable comes wit...   \n",
      "\n",
      "                                             user_id  \\\n",
      "0  AG3D6O4STAQKAY2UVGEUV46KN35Q,AHMY5CWJMMK5BJRBB...   \n",
      "1  AECPFYFQVRUWC3KGNLJIOREFP5LQ,AGYYVPDD7YG7FYNBX...   \n",
      "2  AGU3BBQ2V2DDAMOAKGFAWDDQ6QHA,AESFLDV2PT363T2AQ...   \n",
      "3  AEWAZDZZJLQUYVOVGBEUKSLXHQ5A,AG5HTSFRRE6NL3M5S...   \n",
      "4  AE3Q6KSUK5P75D5HFYHCRAOLODSA,AFUGIFH5ZAFXRDSZH...   \n",
      "\n",
      "                                           user_name  \\\n",
      "0  Manav,Adarsh gupta,Sundeep,S.Sayeed Ahmed,jasp...   \n",
      "1  ArdKn,Nirbhay kumar,Sagar Viswanathan,Asp,Plac...   \n",
      "2  Kunal,Himanshu,viswanath,sai niharka,saqib mal...   \n",
      "3  Omkar dhale,JD,HEMALATHA,Ajwadh a.,amar singh ...   \n",
      "4  rahuls6099,Swasat Borah,Ajay Wadke,Pranali,RVK...   \n",
      "\n",
      "                                           review_id  \\\n",
      "0  R3HXWT0LRP0NMF,R2AJM3LFTLZHFO,R6AQJGUP6P86,R1K...   \n",
      "1  RGIQEG07R9HS2,R1SMWZQ86XIN8U,R2J3Y1WL29GWDE,RY...   \n",
      "2  R3J3EQQ9TZI5ZJ,R3E7WBGK7ID0KV,RWU79XKQ6I1QF,R2...   \n",
      "3  R3EEUZKKK9J36I,R3HJVYCLYOY554,REDECAZ7AMPQC,R1...   \n",
      "4  R1BP4L2HH9TFUP,R16PVJEXKV6QZS,R2UPDB81N66T4P,R...   \n",
      "\n",
      "                                        review_title  \\\n",
      "0  Satisfied,Charging is really fast,Value for mo...   \n",
      "1  A Good Braided Cable for Your Type C Device,Go...   \n",
      "2  Good speed for earlier versions,Good Product,W...   \n",
      "3  Good product,Good one,Nice,Really nice product...   \n",
      "4  As good as original,Decent,Good one for second...   \n",
      "\n",
      "                                      review_content  \\\n",
      "0  Looks durable Charging is fine tooNo complains...   \n",
      "1  I ordered this cable to connect my phone to An...   \n",
      "2  Not quite durable and sturdy,https://m.media-a...   \n",
      "3  Good product,long wire,Charges good,Nice,I bou...   \n",
      "4  Bought this instead of original apple, does th...   \n",
      "\n",
      "                                            img_link  \\\n",
      "0  https://m.media-amazon.com/images/W/WEBP_40237...   \n",
      "1  https://m.media-amazon.com/images/W/WEBP_40237...   \n",
      "2  https://m.media-amazon.com/images/W/WEBP_40237...   \n",
      "3  https://m.media-amazon.com/images/I/41V5FtEWPk...   \n",
      "4  https://m.media-amazon.com/images/W/WEBP_40237...   \n",
      "\n",
      "                                        product_link  \n",
      "0  https://www.amazon.in/Wayona-Braided-WN3LG1-Sy...  \n",
      "1  https://www.amazon.in/Ambrane-Unbreakable-Char...  \n",
      "2  https://www.amazon.in/Sounce-iPhone-Charging-C...  \n",
      "3  https://www.amazon.in/Deuce-300-Resistant-Tang...  \n",
      "4  https://www.amazon.in/Portronics-Konnect-POR-1...  \n"
     ]
    }
   ],
   "source": [
    "#import the dataset amazon.csv to az\n",
    "az = pd.read_excel('wrangle-ing.xlsx')\n",
    "az['actual_value_dollar'] = az['actual_value_dollar'].round(2)\n",
    "az['discount_value_dollar'] = az['discount_value_dollar'].round(2)\n",
    "print(az.head())"
   ]
  },
  {
   "cell_type": "markdown",
   "id": "f68b06b1",
   "metadata": {},
   "source": [
    "We can see that the prices are reflected in the file with symbols, after investigation in excel, I saw that the currency recored in the data is in Indian Rupees, without hesitation, I popped into the \"get info\" button on the csv file and it showed me that the document was last modified 17 January 2023, after looking into global currencies I have chosen to display the Rupee as a value in Dollar (United States). \n",
    "\n",
    "I did so by looking at the Rupee around the week of 17 January 2023, and have decided on a solid 81 Rupee to Dollar exchange rate.\n",
    "\n",
    "I did this within an Excel sheet, it is attached to this repository. \n",
    "\n",
    "We can see that the Dollar is being displayed with a chain of decimals despite showing up properly in excel to fix this we will round the dollar columns for this analysis."
   ]
  },
  {
   "cell_type": "code",
   "execution_count": 13,
   "id": "f8d7b196",
   "metadata": {},
   "outputs": [
    {
     "name": "stdout",
     "output_type": "stream",
     "text": [
      "<class 'pandas.core.frame.DataFrame'>\n",
      "RangeIndex: 1465 entries, 0 to 1464\n",
      "Data columns (total 20 columns):\n",
      " #   Column                           Non-Null Count  Dtype  \n",
      "---  ------                           --------------  -----  \n",
      " 0   product_id                       1465 non-null   object \n",
      " 1   product_name                     1465 non-null   object \n",
      " 2   category                         1465 non-null   object \n",
      " 3   discounted_price                 1465 non-null   object \n",
      " 4   discounted price formatted       1465 non-null   object \n",
      " 5   discount_value_dollar            1465 non-null   float64\n",
      " 6   actual_price                     1465 non-null   object \n",
      " 7   discount price formatted actual  1465 non-null   object \n",
      " 8   actual_value_dollar              1464 non-null   float64\n",
      " 9   discount_percentage              1465 non-null   float64\n",
      " 10  rating                           1465 non-null   object \n",
      " 11  rating_count                     1463 non-null   object \n",
      " 12  about_product                    1465 non-null   object \n",
      " 13  user_id                          1465 non-null   object \n",
      " 14  user_name                        1465 non-null   object \n",
      " 15  review_id                        1465 non-null   object \n",
      " 16  review_title                     1465 non-null   object \n",
      " 17  review_content                   1465 non-null   object \n",
      " 18  img_link                         1465 non-null   object \n",
      " 19  product_link                     1465 non-null   object \n",
      "dtypes: float64(3), object(17)\n",
      "memory usage: 229.0+ KB\n",
      "None\n"
     ]
    }
   ],
   "source": [
    "#check the info\n",
    "print(az.info())"
   ]
  },
  {
   "cell_type": "code",
   "execution_count": 14,
   "id": "52c378c1",
   "metadata": {},
   "outputs": [
    {
     "name": "stdout",
     "output_type": "stream",
     "text": [
      "Index(['product_id', 'product_name', 'category', 'discounted_price',\n",
      "       'discounted price formatted', 'discount_value_dollar', 'actual_price',\n",
      "       'discount price formatted actual', 'actual_value_dollar',\n",
      "       'discount_percentage', 'rating', 'rating_count', 'about_product',\n",
      "       'user_id', 'user_name', 'review_id', 'review_title', 'review_content',\n",
      "       'img_link', 'product_link'],\n",
      "      dtype='object')\n"
     ]
    }
   ],
   "source": [
    "#check the columns in az\n",
    "print(az.columns)"
   ]
  },
  {
   "cell_type": "markdown",
   "id": "831d3589",
   "metadata": {},
   "source": [
    "<a name=\"sort\"></a>\n",
    "# Sort Data"
   ]
  },
  {
   "cell_type": "code",
   "execution_count": 15,
   "id": "e089a0bc",
   "metadata": {},
   "outputs": [],
   "source": [
    "#Q1 top_10 (most sold products)\n",
    "top_sold = az['product_name'].value_counts().reset_index()\n",
    "top_sold.columns = ['product_name', 'count']\n",
    "top_10_sold = top_sold.head(10)"
   ]
  },
  {
   "cell_type": "code",
   "execution_count": 16,
   "id": "6214c61c",
   "metadata": {},
   "outputs": [],
   "source": [
    "#Q2 highest_ratings\n",
    "#make rating a float value as it is imported as an object number\n",
    "az['rating'] = pd.to_numeric(az['rating'], errors='coerce')\n",
    "sorted_ratings = az.sort_values(by='rating', ascending=False)[['product_id', 'product_name', 'rating']]"
   ]
  },
  {
   "cell_type": "code",
   "execution_count": 17,
   "id": "675fe290",
   "metadata": {},
   "outputs": [],
   "source": [
    "#Q3 most_exp products (without discoounts)\n",
    "sorted_exp = az.sort_values(by='actual_value_dollar', ascending=False)\n",
    "#only return neccesary columns\n",
    "sorted_exp = sorted_exp[['product_id', 'product_name', 'actual_value_dollar']]\n",
    "\n",
    "most_exp_10 = sorted_exp.head(10)"
   ]
  },
  {
   "cell_type": "code",
   "execution_count": 18,
   "id": "e6106c3f",
   "metadata": {},
   "outputs": [],
   "source": [
    "#Q4 total products in each category\n",
    "category_counts = az.groupby('category')['product_name'].count().sort_values(ascending=False)"
   ]
  },
  {
   "cell_type": "code",
   "execution_count": 19,
   "id": "ba578314",
   "metadata": {},
   "outputs": [],
   "source": [
    "#Q5 Top 5 Categories by Volume sold and Rough revenue (rough estimate!!)\n",
    "#bc this data does not include a 'sales volume' column we will make a rough assumption based on the rating_count, taking into consideration that these values are not by any means a true reflection of the volume of sales.\n",
    "az['rating_count'] = pd.to_numeric(az['rating_count'], errors='coerce') \n",
    "az['estimated_revenue'] = az['rating_count'] * az['actual_value_dollar']\n",
    "\n",
    "#group by category and sum the rough estimated revenue\n",
    "category_performance = az.groupby('category')['estimated_revenue'].sum().sort_values(ascending=False)\n",
    "#create a dataframe\n",
    "category_performance_df = category_performance.reset_index()\n",
    "\n",
    "#column names\n",
    "category_performance_df.columns = ['Category', 'Estimated_Revenue']\n",
    "\n",
    "#format est_rev as money\n",
    "category_performance_df['Estimated_Revenue'] = category_performance_df['Estimated_Revenue'].apply(lambda x: \"${:,.2f}\".format(x))"
   ]
  },
  {
   "cell_type": "code",
   "execution_count": 22,
   "id": "34c01a67",
   "metadata": {},
   "outputs": [
    {
     "name": "stdout",
     "output_type": "stream",
     "text": [
      "float64\n",
      "float64\n"
     ]
    }
   ],
   "source": [
    "print(az['actual_value_dollar'].dtype)\n",
    "print(az['rating'].dtype)"
   ]
  },
  {
   "cell_type": "code",
   "execution_count": 32,
   "id": "5f614d5e",
   "metadata": {},
   "outputs": [
    {
     "name": "stdout",
     "output_type": "stream",
     "text": [
      "0.11022305681551425\n"
     ]
    }
   ],
   "source": [
    "#Q6 Is there any correlation between Price and Ratings\n",
    "#check the correlation for price and rating\n",
    "corr_pr = az['actual_value_dollar'].corr(az['rating'])\n",
    "print(corr_pr)"
   ]
  },
  {
   "cell_type": "code",
   "execution_count": 45,
   "id": "3377c23c",
   "metadata": {},
   "outputs": [],
   "source": [
    "#Q7 Avg price per category\n",
    "#compare average prices across categories\n",
    "compare_prices = az.groupby('category')['actual_value_dollar'].mean().reset_index().rename(columns={'actual_value_dollar': 'average_price'})\n",
    "compare_prices = compare_prices.sort_values('average_price', ascending=False)"
   ]
  },
  {
   "cell_type": "code",
   "execution_count": 46,
   "id": "5997acca",
   "metadata": {},
   "outputs": [],
   "source": [
    "#Q8 creating a more informative excel and csv file\n",
    "columns = ['product_id', 'product_name', 'category', 'actual_value_dollar', 'discount_percentage', 'rating', 'rating_count', 'user_id', 'product_link']"
   ]
  },
  {
   "cell_type": "code",
   "execution_count": 47,
   "id": "75971603",
   "metadata": {},
   "outputs": [],
   "source": [
    "az_refined = az[columns]"
   ]
  },
  {
   "cell_type": "code",
   "execution_count": 48,
   "id": "7e99e21b",
   "metadata": {},
   "outputs": [],
   "source": [
    "#export to csv\n",
    "az_refined.to_csv('az_refined.csv', index=False)"
   ]
  },
  {
   "cell_type": "code",
   "execution_count": 49,
   "id": "6df1dba8",
   "metadata": {},
   "outputs": [],
   "source": [
    "#export to excel file\n",
    "az_refined.to_excel('az_refined.xlsx', index=False)"
   ]
  }
 ],
 "metadata": {
  "kernelspec": {
   "display_name": "Python 3 (ipykernel)",
   "language": "python",
   "name": "python3"
  },
  "language_info": {
   "codemirror_mode": {
    "name": "ipython",
    "version": 3
   },
   "file_extension": ".py",
   "mimetype": "text/x-python",
   "name": "python",
   "nbconvert_exporter": "python",
   "pygments_lexer": "ipython3",
   "version": "3.9.13"
  }
 },
 "nbformat": 4,
 "nbformat_minor": 5
}
